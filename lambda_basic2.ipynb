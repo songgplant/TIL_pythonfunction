{
 "cells": [
  {
   "cell_type": "markdown",
   "id": "cb8191e8",
   "metadata": {},
   "source": [
    "https://gorokke.tistory.com/38 코드가 좋은 것 같다."
   ]
  },
  {
   "cell_type": "code",
   "execution_count": 1,
   "id": "400c0d28",
   "metadata": {},
   "outputs": [
    {
     "data": {
      "text/plain": [
       "11"
      ]
     },
     "execution_count": 1,
     "metadata": {},
     "output_type": "execute_result"
    }
   ],
   "source": [
    "(lambda x: x+10)(1)"
   ]
  },
  {
   "cell_type": "code",
   "execution_count": 2,
   "id": "b2a91da5",
   "metadata": {},
   "outputs": [],
   "source": [
    "testlist = [40, 50, 60, 70, 80]"
   ]
  },
  {
   "cell_type": "code",
   "execution_count": 7,
   "id": "ec166a31",
   "metadata": {},
   "outputs": [],
   "source": [
    "check_pass = (lambda x: 'pass' if x >= 70 else 'fail')(80)"
   ]
  },
  {
   "cell_type": "code",
   "execution_count": 8,
   "id": "e861fc06",
   "metadata": {},
   "outputs": [
    {
     "data": {
      "text/plain": [
       "'pass'"
      ]
     },
     "execution_count": 8,
     "metadata": {},
     "output_type": "execute_result"
    }
   ],
   "source": [
    "check_pass"
   ]
  },
  {
   "cell_type": "code",
   "execution_count": 10,
   "id": "fe38e8ea",
   "metadata": {},
   "outputs": [
    {
     "name": "stdout",
     "output_type": "stream",
     "text": [
      "pass <class 'str'>\n"
     ]
    }
   ],
   "source": [
    "print(check_pass, type(check_pass))"
   ]
  },
  {
   "cell_type": "markdown",
   "id": "9e027d82",
   "metadata": {},
   "source": [
    "---"
   ]
  },
  {
   "cell_type": "markdown",
   "id": "9dd8da47",
   "metadata": {},
   "source": [
    "`check_pass = (lambda x: 'pass' if x >= 70 else 'fail')(80)`<br>\n",
    "(lambda)(적용할 것)인 줄 알아서 80자리에 비교하고 싶은 숫자 리스트 testlist를 담았지만, 오류가 발생<br>\n",
    "-> 리스트와 int가 not supported. 그렇다면 리스트를 인자로 받는 map과 같이 쓴다."
   ]
  },
  {
   "cell_type": "code",
   "execution_count": 16,
   "id": "bfc38d1c",
   "metadata": {},
   "outputs": [
    {
     "ename": "TypeError",
     "evalue": "'>=' not supported between instances of 'list' and 'int'",
     "output_type": "error",
     "traceback": [
      "\u001b[1;31m---------------------------------------------------------------------------\u001b[0m",
      "\u001b[1;31mTypeError\u001b[0m                                 Traceback (most recent call last)",
      "\u001b[1;32m<ipython-input-16-c8f845a8bcf6>\u001b[0m in \u001b[0;36m<module>\u001b[1;34m\u001b[0m\n\u001b[1;32m----> 1\u001b[1;33m \u001b[0mcheck_pass\u001b[0m \u001b[1;33m=\u001b[0m \u001b[1;33m(\u001b[0m\u001b[1;32mlambda\u001b[0m \u001b[0mx\u001b[0m\u001b[1;33m:\u001b[0m \u001b[1;34m'pass'\u001b[0m \u001b[1;32mif\u001b[0m \u001b[0mx\u001b[0m \u001b[1;33m>=\u001b[0m \u001b[1;36m70\u001b[0m \u001b[1;32melse\u001b[0m \u001b[1;34m'fail'\u001b[0m\u001b[1;33m)\u001b[0m\u001b[1;33m(\u001b[0m\u001b[0mtestlist\u001b[0m\u001b[1;33m)\u001b[0m\u001b[1;33m\u001b[0m\u001b[1;33m\u001b[0m\u001b[0m\n\u001b[0m\u001b[0;32m      2\u001b[0m \u001b[0mprint\u001b[0m\u001b[1;33m(\u001b[0m\u001b[0mcheck_pass\u001b[0m\u001b[1;33m,\u001b[0m \u001b[0mtype\u001b[0m\u001b[1;33m(\u001b[0m\u001b[0mcheck_pass\u001b[0m\u001b[1;33m)\u001b[0m\u001b[1;33m)\u001b[0m\u001b[1;33m\u001b[0m\u001b[1;33m\u001b[0m\u001b[0m\n",
      "\u001b[1;32m<ipython-input-16-c8f845a8bcf6>\u001b[0m in \u001b[0;36m<lambda>\u001b[1;34m(x)\u001b[0m\n\u001b[1;32m----> 1\u001b[1;33m \u001b[0mcheck_pass\u001b[0m \u001b[1;33m=\u001b[0m \u001b[1;33m(\u001b[0m\u001b[1;32mlambda\u001b[0m \u001b[0mx\u001b[0m\u001b[1;33m:\u001b[0m \u001b[1;34m'pass'\u001b[0m \u001b[1;32mif\u001b[0m \u001b[0mx\u001b[0m \u001b[1;33m>=\u001b[0m \u001b[1;36m70\u001b[0m \u001b[1;32melse\u001b[0m \u001b[1;34m'fail'\u001b[0m\u001b[1;33m)\u001b[0m\u001b[1;33m(\u001b[0m\u001b[0mtestlist\u001b[0m\u001b[1;33m)\u001b[0m\u001b[1;33m\u001b[0m\u001b[1;33m\u001b[0m\u001b[0m\n\u001b[0m\u001b[0;32m      2\u001b[0m \u001b[0mprint\u001b[0m\u001b[1;33m(\u001b[0m\u001b[0mcheck_pass\u001b[0m\u001b[1;33m,\u001b[0m \u001b[0mtype\u001b[0m\u001b[1;33m(\u001b[0m\u001b[0mcheck_pass\u001b[0m\u001b[1;33m)\u001b[0m\u001b[1;33m)\u001b[0m\u001b[1;33m\u001b[0m\u001b[1;33m\u001b[0m\u001b[0m\n",
      "\u001b[1;31mTypeError\u001b[0m: '>=' not supported between instances of 'list' and 'int'"
     ]
    }
   ],
   "source": [
    "check_pass = (lambda x: 'pass' if x >= 70 else 'fail')(testlist)\n",
    "print(check_pass, type(check_pass))"
   ]
  },
  {
   "cell_type": "code",
   "execution_count": 17,
   "id": "53c82342",
   "metadata": {},
   "outputs": [
    {
     "name": "stdout",
     "output_type": "stream",
     "text": [
      "['fail', 'fail', 'fail', 'pass', 'pass'] <class 'list'>\n"
     ]
    }
   ],
   "source": [
    "# 가능\n",
    "# testlist = [40, 50, 60, 70, 80]\n",
    "check_pass = list(map(lambda x: 'pass' if x >= 70 else 'fail', testlist))\n",
    "print(check_pass, type(check_pass))"
   ]
  },
  {
   "cell_type": "markdown",
   "id": "d8dcfba5",
   "metadata": {},
   "source": [
    "---"
   ]
  },
  {
   "cell_type": "markdown",
   "id": "8ef61023",
   "metadata": {},
   "source": [
    "**리스트 원소들을 lambda로 정렬하기**"
   ]
  },
  {
   "cell_type": "code",
   "execution_count": 18,
   "id": "0ca68db3",
   "metadata": {},
   "outputs": [],
   "source": [
    "a = [(1, 2), (5, 1), (0, 1), (5, 2), (3, 0)]"
   ]
  },
  {
   "cell_type": "code",
   "execution_count": 19,
   "id": "277214c4",
   "metadata": {},
   "outputs": [
    {
     "data": {
      "text/plain": [
       "[(0, 1), (1, 2), (3, 0), (5, 1), (5, 2)]"
      ]
     },
     "execution_count": 19,
     "metadata": {},
     "output_type": "execute_result"
    }
   ],
   "source": [
    "# 각 원소의 첫 번째로 오름차순 정렬\n",
    "b = sorted(a)\n",
    "b"
   ]
  },
  {
   "cell_type": "code",
   "execution_count": 20,
   "id": "0b08282e",
   "metadata": {},
   "outputs": [
    {
     "data": {
      "text/plain": [
       "[(0, 1), (1, 2), (3, 0), (5, 1), (5, 2)]"
      ]
     },
     "execution_count": 20,
     "metadata": {},
     "output_type": "execute_result"
    }
   ],
   "source": [
    "c = sorted(a, key = lambda x: x[0])\n",
    "c"
   ]
  },
  {
   "cell_type": "code",
   "execution_count": 21,
   "id": "7d6ab2a0",
   "metadata": {},
   "outputs": [
    {
     "data": {
      "text/plain": [
       "[(3, 0), (5, 1), (0, 1), (1, 2), (5, 2)]"
      ]
     },
     "execution_count": 21,
     "metadata": {},
     "output_type": "execute_result"
    }
   ],
   "source": [
    "c = sorted(a, key = lambda x: x[1]) \n",
    "# 각 원소의 인덱스 1번째(0부터니까 ()괄호의 두번째 원소로 정렬)\n",
    "c"
   ]
  },
  {
   "cell_type": "markdown",
   "id": "b87fc44c",
   "metadata": {},
   "source": [
    "x[0]부터 우선순위로 정렬하고, 만약 x[0]이 같다면 그 다음은 x[1]을 정렬하는데, 내림차순으로 하기 위해 `-`를 붙여준다.<br>\n",
    "그래서 (5,2)가 먼저 정렬되는 것이다."
   ]
  },
  {
   "cell_type": "code",
   "execution_count": 22,
   "id": "924ca8aa",
   "metadata": {},
   "outputs": [
    {
     "data": {
      "text/plain": [
       "[(0, 1), (1, 2), (3, 0), (5, 2), (5, 1)]"
      ]
     },
     "execution_count": 22,
     "metadata": {},
     "output_type": "execute_result"
    }
   ],
   "source": [
    "e = sorted(a, key = lambda x : (x[0], -x[1]))\n",
    "e"
   ]
  },
  {
   "cell_type": "code",
   "execution_count": 23,
   "id": "d75356b3",
   "metadata": {},
   "outputs": [
    {
     "ename": "SyntaxError",
     "evalue": "positional argument follows keyword argument (<ipython-input-23-ea0bbf84e0c9>, line 1)",
     "output_type": "error",
     "traceback": [
      "\u001b[1;36m  File \u001b[1;32m\"<ipython-input-23-ea0bbf84e0c9>\"\u001b[1;36m, line \u001b[1;32m1\u001b[0m\n\u001b[1;33m    f = sorted(a, key = lambda x : x[0], -x[1])\u001b[0m\n\u001b[1;37m                                         ^\u001b[0m\n\u001b[1;31mSyntaxError\u001b[0m\u001b[1;31m:\u001b[0m positional argument follows keyword argument\n"
     ]
    }
   ],
   "source": [
    "# 람다 : 뒤에 괄호를 안 쓰면 에러난다. 정렬 기준이 2개 이상이라서.\n",
    "f = sorted(a, key = lambda x : x[0], -x[1])\n",
    "f"
   ]
  },
  {
   "cell_type": "code",
   "execution_count": 25,
   "id": "9e487971",
   "metadata": {},
   "outputs": [
    {
     "data": {
      "text/plain": [
       "['1 A', '2 A', '1 B', '4 C']"
      ]
     },
     "execution_count": 25,
     "metadata": {},
     "output_type": "execute_result"
    }
   ],
   "source": [
    "s = ['2 A', '1 B', '4 C', '1 A']\n",
    "sorted(s, key=lambda x: (x.split()[1], x.split()[0]))"
   ]
  },
  {
   "cell_type": "markdown",
   "id": "9adbb6f8",
   "metadata": {},
   "source": [
    "**counter**는 별도 정리 예정"
   ]
  },
  {
   "cell_type": "code",
   "execution_count": 29,
   "id": "32b44206",
   "metadata": {},
   "outputs": [
    {
     "data": {
      "text/plain": [
       "[('b', 2), ('d', 2), ('a', 1), ('s', 1)]"
      ]
     },
     "execution_count": 29,
     "metadata": {},
     "output_type": "execute_result"
    }
   ],
   "source": [
    "from collections import Counter\n",
    "a_list = ['a', 'b', 'd', 'd', 'b','s']\n",
    "a_counter = Counter(a_list).most_common()\n",
    "a_counter"
   ]
  },
  {
   "cell_type": "code",
   "execution_count": 30,
   "id": "c74e565c",
   "metadata": {},
   "outputs": [
    {
     "data": {
      "text/plain": [
       "[('d', 2), ('b', 2), ('s', 1), ('a', 1)]"
      ]
     },
     "execution_count": 30,
     "metadata": {},
     "output_type": "execute_result"
    }
   ],
   "source": [
    "# 문자 역순(아스키 값 이용)\n",
    "sorted(a_counter,  key=lambda x: (-x[1], -ord(x[0])))"
   ]
  },
  {
   "cell_type": "code",
   "execution_count": null,
   "id": "dbe4de59",
   "metadata": {},
   "outputs": [],
   "source": []
  }
 ],
 "metadata": {
  "kernelspec": {
   "display_name": "Python 3",
   "language": "python",
   "name": "python3"
  },
  "language_info": {
   "codemirror_mode": {
    "name": "ipython",
    "version": 3
   },
   "file_extension": ".py",
   "mimetype": "text/x-python",
   "name": "python",
   "nbconvert_exporter": "python",
   "pygments_lexer": "ipython3",
   "version": "3.8.8"
  }
 },
 "nbformat": 4,
 "nbformat_minor": 5
}
