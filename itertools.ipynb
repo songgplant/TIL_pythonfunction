{
 "cells": [
  {
   "cell_type": "markdown",
   "id": "7d6f59d4",
   "metadata": {},
   "source": [
    "### itertools\n",
    "- how to study : 알고리즘 문제를 풀고, 다른 사람들 코드를 리뷰하며 itertools 라이브러리에서 호출된 함수를 발견하면 그때마다 구글링하여 외우고, 익히기.\n",
    "- 함수가 다양하고 개수도 많아 시간을 두고 익숙해지면서 암기하는 방법을 추천한다."
   ]
  },
  {
   "cell_type": "code",
   "execution_count": 2,
   "id": "e4dbc984",
   "metadata": {},
   "outputs": [
    {
     "name": "stdout",
     "output_type": "stream",
     "text": [
      "(1, 2)\n",
      "<class 'tuple'>\n",
      "(1, 3)\n",
      "<class 'tuple'>\n",
      "(2, 3)\n",
      "<class 'tuple'>\n"
     ]
    }
   ],
   "source": [
    "# combinations(iterable, r) : iterable에서 원소 개수가 r개인 조합 뽑기\n",
    "from itertools import combinations\n",
    "\n",
    "test = [1,2,3]\n",
    "for i in combinations(test, 2) :\n",
    "    print(i)\n",
    "    print(type(i))"
   ]
  },
  {
   "cell_type": "code",
   "execution_count": 3,
   "id": "840e8ee2",
   "metadata": {},
   "outputs": [
    {
     "name": "stdout",
     "output_type": "stream",
     "text": [
      "('A', 'A')\n",
      "<class 'tuple'>\n",
      "('A', 'B')\n",
      "<class 'tuple'>\n",
      "('A', 'C')\n",
      "<class 'tuple'>\n",
      "('B', 'B')\n",
      "<class 'tuple'>\n",
      "('B', 'C')\n",
      "<class 'tuple'>\n",
      "('C', 'C')\n",
      "<class 'tuple'>\n"
     ]
    }
   ],
   "source": [
    "# combinations_with_replacement(iterable, r) : iterable에서 원소 개수가 r개인 중복 조합 뽑기\n",
    "from itertools import combinations_with_replacement\n",
    "\n",
    "test = ['A', 'B', 'C']\n",
    "for i in combinations_with_replacement(test, 2) :\n",
    "    print(i)\n",
    "    print(type(i))"
   ]
  },
  {
   "cell_type": "code",
   "execution_count": 4,
   "id": "4be0a7b9",
   "metadata": {},
   "outputs": [
    {
     "name": "stdout",
     "output_type": "stream",
     "text": [
      "('A', 'B', 'C')\n",
      "('A', 'C', 'B')\n",
      "('B', 'A', 'C')\n",
      "('B', 'C', 'A')\n",
      "('C', 'A', 'B')\n",
      "('C', 'B', 'A')\n"
     ]
    }
   ],
   "source": [
    "# permutations(iterable, r=None) : iterable에서 원소 개수가 r인 순열 뽑기\n",
    "from itertools import permutations\n",
    "\n",
    "test = ['A', 'B', 'C']\n",
    "for i in permutations(test) :\n",
    "    print(i)"
   ]
  },
  {
   "cell_type": "code",
   "execution_count": 5,
   "id": "e0922785",
   "metadata": {},
   "outputs": [
    {
     "name": "stdout",
     "output_type": "stream",
     "text": [
      "('A', 'B')\n",
      "('A', 'C')\n",
      "('B', 'A')\n",
      "('B', 'C')\n",
      "('C', 'A')\n",
      "('C', 'B')\n"
     ]
    }
   ],
   "source": [
    "for i in permutations(test, 2) :\n",
    "    print(i)"
   ]
  },
  {
   "cell_type": "code",
   "execution_count": 6,
   "id": "43aecbe6",
   "metadata": {},
   "outputs": [
    {
     "name": "stdout",
     "output_type": "stream",
     "text": [
      "('A', '1')\n",
      "('A', '2')\n",
      "('B', '1')\n",
      "('B', '2')\n"
     ]
    }
   ],
   "source": [
    "# product(*iterables, repeat=1) : 여러 iterable의 데카르트곱 리턴\n",
    "from itertools import product\n",
    "test1 = ['A', 'B']\n",
    "test2 = ['1', '2']\n",
    "test3 = [1, 2]\n",
    "\n",
    "for i in product(test1, test2, repeat=1) :\n",
    "    print(i)"
   ]
  },
  {
   "cell_type": "code",
   "execution_count": 7,
   "id": "9a209f45",
   "metadata": {},
   "outputs": [
    {
     "name": "stdout",
     "output_type": "stream",
     "text": [
      "('A', 'A', 'A')\n",
      "('A', 'A', 'B')\n",
      "('A', 'B', 'A')\n",
      "('A', 'B', 'B')\n",
      "('B', 'A', 'A')\n",
      "('B', 'A', 'B')\n",
      "('B', 'B', 'A')\n",
      "('B', 'B', 'B')\n"
     ]
    }
   ],
   "source": [
    "for i in product(test1, repeat=3) :\n",
    "    print(i)"
   ]
  },
  {
   "cell_type": "code",
   "execution_count": 8,
   "id": "55e166f3",
   "metadata": {},
   "outputs": [
    {
     "name": "stdout",
     "output_type": "stream",
     "text": [
      "('A', 1)\n",
      "('A', 2)\n",
      "('B', 1)\n",
      "('B', 2)\n"
     ]
    }
   ],
   "source": [
    "for i in product(test1, test3, repeat=1) : # 문자형, 정수형 상관없음\n",
    "    print(i)"
   ]
  },
  {
   "cell_type": "markdown",
   "id": "bcf6fe53",
   "metadata": {},
   "source": [
    "- 가장 정리가 깔끔한 참조문헌 : https://hamait.tistory.com/803"
   ]
  },
  {
   "cell_type": "code",
   "execution_count": 9,
   "id": "9ca8ce71",
   "metadata": {},
   "outputs": [
    {
     "data": {
      "text/plain": [
       "<itertools.chain at 0x2b3a7da1520>"
      ]
     },
     "execution_count": 9,
     "metadata": {},
     "output_type": "execute_result"
    }
   ],
   "source": [
    "# chain()\n",
    "import itertools\n",
    "\n",
    "letters = ['a', 'b', 'c', 'd', 'e', 'f']\n",
    "booleans = [1, 0, 1, 0, 0, 1]\n",
    "decimals = [0.1, 0.7, 0.4, 0.4, 0.5]\n",
    "\n",
    "itertools.chain(letters, booleans, decimals)"
   ]
  },
  {
   "cell_type": "code",
   "execution_count": 11,
   "id": "75073ab1",
   "metadata": {},
   "outputs": [
    {
     "name": "stdout",
     "output_type": "stream",
     "text": [
      "<itertools.chain object at 0x000002B3A7DA11C0>\n",
      "['a', 'b', 'c', 'd', 'e', 'f', 1, 0, 1, 0, 0, 1, 0.1, 0.7, 0.4, 0.4, 0.5]\n"
     ]
    }
   ],
   "source": [
    "# list로 담아야 결과값 출력\n",
    "print(itertools.chain(letters, booleans, decimals))\n",
    "print(list(itertools.chain(letters, booleans, decimals)))"
   ]
  },
  {
   "cell_type": "code",
   "execution_count": 17,
   "id": "05f1589d",
   "metadata": {},
   "outputs": [
    {
     "name": "stdout",
     "output_type": "stream",
     "text": [
      "0: a\n",
      "<class 'int'> <class 'str'>\n",
      "10: b\n",
      "<class 'int'> <class 'str'>\n",
      "20: c\n",
      "<class 'int'> <class 'str'>\n",
      "30: d\n",
      "<class 'int'> <class 'str'>\n",
      "40: e\n",
      "<class 'int'> <class 'str'>\n"
     ]
    }
   ],
   "source": [
    "from itertools import count\n",
    "\n",
    "for number, letter in zip(count(0, 10), ['a', 'b', 'c', 'd', 'e']) :\n",
    "    print(\"{0}: {1}\".format(number, letter))\n",
    "    print(type(number), type(letter))"
   ]
  },
  {
   "cell_type": "code",
   "execution_count": 15,
   "id": "34a6c97e",
   "metadata": {},
   "outputs": [
    {
     "ename": "ImportError",
     "evalue": "cannot import name 'izip' from 'itertools' (unknown location)",
     "output_type": "error",
     "traceback": [
      "\u001b[1;31m---------------------------------------------------------------------------\u001b[0m",
      "\u001b[1;31mImportError\u001b[0m                               Traceback (most recent call last)",
      "\u001b[1;32m<ipython-input-15-59b8e0bac41a>\u001b[0m in \u001b[0;36m<module>\u001b[1;34m\u001b[0m\n\u001b[1;32m----> 1\u001b[1;33m \u001b[1;32mfrom\u001b[0m \u001b[0mitertools\u001b[0m \u001b[1;32mimport\u001b[0m \u001b[0mizip\u001b[0m\u001b[1;33m\u001b[0m\u001b[1;33m\u001b[0m\u001b[0m\n\u001b[0m\u001b[0;32m      2\u001b[0m \u001b[1;33m\u001b[0m\u001b[0m\n\u001b[0;32m      3\u001b[0m \u001b[0mprint\u001b[0m\u001b[1;33m(\u001b[0m\u001b[0mlist\u001b[0m\u001b[1;33m(\u001b[0m\u001b[0mizip\u001b[0m\u001b[1;33m(\u001b[0m\u001b[1;33m[\u001b[0m\u001b[1;36m1\u001b[0m\u001b[1;33m,\u001b[0m \u001b[1;36m2\u001b[0m\u001b[1;33m,\u001b[0m \u001b[1;36m3\u001b[0m\u001b[1;33m]\u001b[0m\u001b[1;33m,\u001b[0m \u001b[1;33m[\u001b[0m\u001b[1;34m'a'\u001b[0m\u001b[1;33m,\u001b[0m \u001b[1;34m'b'\u001b[0m\u001b[1;33m,\u001b[0m \u001b[1;34m'c'\u001b[0m\u001b[1;33m]\u001b[0m\u001b[1;33m)\u001b[0m\u001b[1;33m)\u001b[0m\u001b[1;33m)\u001b[0m\u001b[1;33m\u001b[0m\u001b[1;33m\u001b[0m\u001b[0m\n",
      "\u001b[1;31mImportError\u001b[0m: cannot import name 'izip' from 'itertools' (unknown location)"
     ]
    }
   ],
   "source": [
    "# fail to import izip\n",
    "from itertools import izip\n",
    "\n",
    "print(list(izip([1, 2, 3], ['a', 'b', 'c'])))"
   ]
  },
  {
   "cell_type": "code",
   "execution_count": 18,
   "id": "40b070d0",
   "metadata": {},
   "outputs": [
    {
     "ename": "ImportError",
     "evalue": "cannot import name 'imap' from 'itertools' (unknown location)",
     "output_type": "error",
     "traceback": [
      "\u001b[1;31m---------------------------------------------------------------------------\u001b[0m",
      "\u001b[1;31mImportError\u001b[0m                               Traceback (most recent call last)",
      "\u001b[1;32m<ipython-input-18-210ad3d77d5c>\u001b[0m in \u001b[0;36m<module>\u001b[1;34m\u001b[0m\n\u001b[1;32m----> 1\u001b[1;33m \u001b[1;32mfrom\u001b[0m \u001b[0mitertools\u001b[0m \u001b[1;32mimport\u001b[0m \u001b[0mimap\u001b[0m\u001b[1;33m\u001b[0m\u001b[1;33m\u001b[0m\u001b[0m\n\u001b[0m\u001b[0;32m      2\u001b[0m \u001b[0mprint\u001b[0m\u001b[1;33m(\u001b[0m\u001b[0mlist\u001b[0m\u001b[1;33m(\u001b[0m\u001b[0mimap\u001b[0m\u001b[1;33m(\u001b[0m\u001b[1;32mlambda\u001b[0m \u001b[0mx\u001b[0m\u001b[1;33m:\u001b[0m \u001b[0mx\u001b[0m\u001b[1;33m*\u001b[0m\u001b[0mx\u001b[0m\u001b[1;33m,\u001b[0m \u001b[0mxrange\u001b[0m\u001b[1;33m(\u001b[0m\u001b[1;36m10\u001b[0m\u001b[1;33m)\u001b[0m\u001b[1;33m)\u001b[0m\u001b[1;33m)\u001b[0m\u001b[1;33m)\u001b[0m\u001b[1;33m\u001b[0m\u001b[1;33m\u001b[0m\u001b[0m\n",
      "\u001b[1;31mImportError\u001b[0m: cannot import name 'imap' from 'itertools' (unknown location)"
     ]
    }
   ],
   "source": [
    "# fail to import imap...\n",
    "from itertools import imap\n",
    "print(list(imap(lambda x: x*x, xrange(10))))"
   ]
  },
  {
   "cell_type": "code",
   "execution_count": 20,
   "id": "75334e0f",
   "metadata": {},
   "outputs": [
    {
     "name": "stdout",
     "output_type": "stream",
     "text": [
      "[0, 1, 4, 9, 16, 25, 36, 49, 64, 81]\n"
     ]
    }
   ],
   "source": [
    "# cannot run xrange, imap 방법 찾기\n",
    "print(list(map(lambda x: x*x, range(10))))"
   ]
  },
  {
   "cell_type": "code",
   "execution_count": 22,
   "id": "24b92e2c",
   "metadata": {},
   "outputs": [
    {
     "name": "stdout",
     "output_type": "stream",
     "text": [
      "0\n",
      "1\n",
      "2\n",
      "3\n",
      "4\n"
     ]
    }
   ],
   "source": [
    "from itertools import islice\n",
    "\n",
    "for i in islice(range(10), 5) : # 5번째 안으로 자르기\n",
    "    print(i)"
   ]
  },
  {
   "cell_type": "code",
   "execution_count": 26,
   "id": "3a0af9cf",
   "metadata": {},
   "outputs": [
    {
     "name": "stdout",
     "output_type": "stream",
     "text": [
      "0\n",
      "10\n",
      "20\n",
      "30\n",
      "40\n",
      "50\n",
      "60\n",
      "70\n",
      "80\n",
      "90\n"
     ]
    }
   ],
   "source": [
    "for i in islice(range(100), 0, 100, 10):\n",
    "    # range(100)의 범위에서, 0부터 시작, 100까지, 크기 10씩 반복\n",
    "    print(i)"
   ]
  },
  {
   "cell_type": "code",
   "execution_count": 28,
   "id": "cf4577a3",
   "metadata": {},
   "outputs": [
    {
     "name": "stdout",
     "output_type": "stream",
     "text": [
      "<itertools._tee object at 0x000002B3A7D89C00>\n",
      "[0, 1, 2, 3, 4, 5, 6, 7, 8, 9]\n",
      "[]\n",
      "[0, 1, 2, 3, 4, 5, 6, 7, 8, 9]\n",
      "[]\n",
      "[0, 1, 2, 3, 4, 5, 6, 7, 8, 9]\n",
      "[]\n"
     ]
    }
   ],
   "source": [
    "from itertools import tee\n",
    "\n",
    "i1, i2, i3 = tee(range(10), 3)\n",
    "print(i1)\n",
    "print(list(i1))\n",
    "print(list(i1))\n",
    "print(list(i2))\n",
    "print(list(i2))\n",
    "print(list(i3))\n",
    "print(list(i3))"
   ]
  },
  {
   "cell_type": "code",
   "execution_count": 29,
   "id": "6d6b9c67",
   "metadata": {},
   "outputs": [
    {
     "name": "stdout",
     "output_type": "stream",
     "text": [
      "0: a\n",
      "1: b\n",
      "0: c\n",
      "1: d\n",
      "0: e\n"
     ]
    }
   ],
   "source": [
    "from itertools import cycle\n",
    "for number, letter in zip(cycle(range(2)), ['a', 'b', 'c', 'd', 'e']) :\n",
    "    print(\"{0}: {1}\".format(number, letter))"
   ]
  },
  {
   "cell_type": "code",
   "execution_count": 30,
   "id": "979fa309",
   "metadata": {},
   "outputs": [
    {
     "name": "stdout",
     "output_type": "stream",
     "text": [
      "0: a\n",
      "1: b\n",
      "2: c\n",
      "0: d\n",
      "1: e\n"
     ]
    }
   ],
   "source": [
    "from itertools import cycle\n",
    "for number, letter in zip(cycle(range(3)), ['a', 'b', 'c', 'd', 'e']) :\n",
    "    print(\"{0}: {1}\".format(number, letter))"
   ]
  },
  {
   "cell_type": "code",
   "execution_count": 33,
   "id": "362fb9e0",
   "metadata": {},
   "outputs": [
    {
     "name": "stdout",
     "output_type": "stream",
     "text": [
      "repeat('hello', 3)\n",
      "['hello', 'hello', 'hello', 'hello']\n"
     ]
    }
   ],
   "source": [
    "from itertools import repeat\n",
    "print(repeat(\"hello\", 3))\n",
    "print(list(repeat(\"hello\", 4)))"
   ]
  },
  {
   "cell_type": "code",
   "execution_count": 37,
   "id": "f913e23f",
   "metadata": {},
   "outputs": [
    {
     "data": {
      "text/plain": [
       "[66, 100, 1]"
      ]
     },
     "execution_count": 37,
     "metadata": {},
     "output_type": "execute_result"
    }
   ],
   "source": [
    "from itertools import dropwhile\n",
    "list(dropwhile(lambda x: x<35, [1, 4, 6, 7, 11, 34, 66, 100, 1]))"
   ]
  },
  {
   "cell_type": "code",
   "execution_count": 36,
   "id": "8600d31d",
   "metadata": {},
   "outputs": [
    {
     "data": {
      "text/plain": [
       "[1, 4, 6, 7, 11, 34]"
      ]
     },
     "execution_count": 36,
     "metadata": {},
     "output_type": "execute_result"
    }
   ],
   "source": [
    "from itertools import takewhile\n",
    "list(takewhile(lambda x: x < 35, [1, 4, 6, 7, 11, 34, 66, 100, 1]))"
   ]
  },
  {
   "cell_type": "code",
   "execution_count": 38,
   "id": "c51a2a07",
   "metadata": {},
   "outputs": [
    {
     "ename": "ImportError",
     "evalue": "cannot import name 'ifilter' from 'itertools' (unknown location)",
     "output_type": "error",
     "traceback": [
      "\u001b[1;31m---------------------------------------------------------------------------\u001b[0m",
      "\u001b[1;31mImportError\u001b[0m                               Traceback (most recent call last)",
      "\u001b[1;32m<ipython-input-38-bcc3d0e8d9d4>\u001b[0m in \u001b[0;36m<module>\u001b[1;34m\u001b[0m\n\u001b[1;32m----> 1\u001b[1;33m \u001b[1;32mfrom\u001b[0m \u001b[0mitertools\u001b[0m \u001b[1;32mimport\u001b[0m \u001b[0mifilter\u001b[0m\u001b[1;33m\u001b[0m\u001b[1;33m\u001b[0m\u001b[0m\n\u001b[0m\u001b[0;32m      2\u001b[0m \u001b[0mlist\u001b[0m\u001b[1;33m(\u001b[0m\u001b[0mifilter\u001b[0m\u001b[1;33m(\u001b[0m\u001b[1;32mlambda\u001b[0m \u001b[0mx\u001b[0m\u001b[1;33m:\u001b[0m \u001b[0mx\u001b[0m \u001b[1;33m<\u001b[0m \u001b[1;36m10\u001b[0m\u001b[1;33m,\u001b[0m \u001b[1;33m[\u001b[0m\u001b[1;36m1\u001b[0m\u001b[1;33m,\u001b[0m \u001b[1;36m4\u001b[0m\u001b[1;33m,\u001b[0m \u001b[1;36m6\u001b[0m\u001b[1;33m,\u001b[0m \u001b[1;36m7\u001b[0m\u001b[1;33m,\u001b[0m \u001b[1;36m11\u001b[0m\u001b[1;33m,\u001b[0m \u001b[1;36m34\u001b[0m\u001b[1;33m,\u001b[0m \u001b[1;36m66\u001b[0m\u001b[1;33m,\u001b[0m \u001b[1;36m100\u001b[0m\u001b[1;33m,\u001b[0m \u001b[1;36m1\u001b[0m\u001b[1;33m]\u001b[0m\u001b[1;33m)\u001b[0m\u001b[1;33m)\u001b[0m\u001b[1;33m\u001b[0m\u001b[1;33m\u001b[0m\u001b[0m\n",
      "\u001b[1;31mImportError\u001b[0m: cannot import name 'ifilter' from 'itertools' (unknown location)"
     ]
    }
   ],
   "source": [
    "# 왜 안 되지..\n",
    "from itertools import ifilter\n",
    "list(ifilter(lambda x: x < 10, [1, 4, 6, 7, 11, 34, 66, 100, 1]))"
   ]
  },
  {
   "cell_type": "code",
   "execution_count": 39,
   "id": "25402e36",
   "metadata": {},
   "outputs": [],
   "source": [
    "from operator import itemgetter\n",
    "from itertools import groupby\n",
    "\n",
    "attempts = [\n",
    "    ('dan', 87),\n",
    "    ('erik', 95),\n",
    "    ('jason', 79),\n",
    "    ('erik', 97),\n",
    "    ('dan', 100)\n",
    "]"
   ]
  },
  {
   "cell_type": "code",
   "execution_count": 40,
   "id": "f7b7d747",
   "metadata": {},
   "outputs": [],
   "source": [
    "attempts.sort(key=itemgetter(0)) # item의 0번째 요소로 정렬, 오름차순"
   ]
  },
  {
   "cell_type": "code",
   "execution_count": 41,
   "id": "9b6221d7",
   "metadata": {},
   "outputs": [
    {
     "data": {
      "text/plain": [
       "[('dan', 87), ('dan', 100), ('erik', 95), ('erik', 97), ('jason', 79)]"
      ]
     },
     "execution_count": 41,
     "metadata": {},
     "output_type": "execute_result"
    }
   ],
   "source": [
    "attempts"
   ]
  },
  {
   "cell_type": "code",
   "execution_count": 47,
   "id": "6a8acd79",
   "metadata": {},
   "outputs": [
    {
     "name": "stdout",
     "output_type": "stream",
     "text": [
      "dan <itertools._grouper object at 0x000002B3A7E49250>\n",
      "erik <itertools._grouper object at 0x000002B3A7E496D0>\n",
      "jason <itertools._grouper object at 0x000002B3A7E49190>\n"
     ]
    }
   ],
   "source": [
    "for key, value in groupby(attempts, key=itemgetter(0)) :\n",
    "    print(key, value)"
   ]
  },
  {
   "cell_type": "code",
   "execution_count": 49,
   "id": "04659735",
   "metadata": {},
   "outputs": [
    {
     "data": {
      "text/plain": [
       "{'dan': [87, 100], 'erik': [95, 97], 'jason': [79]}"
      ]
     },
     "execution_count": 49,
     "metadata": {},
     "output_type": "execute_result"
    }
   ],
   "source": [
    "{key: sorted(map(itemgetter(1), value)) for key, value in groupby(attempts, key=itemgetter(0))}"
   ]
  },
  {
   "cell_type": "code",
   "execution_count": 50,
   "id": "905bdda4",
   "metadata": {},
   "outputs": [],
   "source": [
    "from collections import defaultdict\n",
    "\n",
    "counts = defaultdict(list)\n",
    "attempts =  [('dan', 87), ('erik', 95), ('jason', 79), ('erik', 97), ('dan', 100)]\n",
    "\n",
    "for (name, score) in attempts :\n",
    "    counts[name].append(score)"
   ]
  },
  {
   "cell_type": "code",
   "execution_count": 51,
   "id": "4261cda0",
   "metadata": {},
   "outputs": [
    {
     "name": "stdout",
     "output_type": "stream",
     "text": [
      "defaultdict(<class 'list'>, {'dan': [87, 100], 'erik': [95, 97], 'jason': [79]})\n"
     ]
    }
   ],
   "source": [
    "print(counts)"
   ]
  },
  {
   "cell_type": "code",
   "execution_count": 52,
   "id": "fd69f260",
   "metadata": {},
   "outputs": [
    {
     "data": {
      "text/plain": [
       "collections.defaultdict"
      ]
     },
     "execution_count": 52,
     "metadata": {},
     "output_type": "execute_result"
    }
   ],
   "source": [
    "type(counts)"
   ]
  },
  {
   "cell_type": "code",
   "execution_count": 54,
   "id": "57d70272",
   "metadata": {},
   "outputs": [
    {
     "data": {
      "text/plain": [
       "(dict_keys(['dan', 'erik', 'jason']),\n",
       " dict_items([('dan', [87, 100]), ('erik', [95, 97]), ('jason', [79])]))"
      ]
     },
     "execution_count": 54,
     "metadata": {},
     "output_type": "execute_result"
    }
   ],
   "source": [
    "counts.keys(), counts.items()"
   ]
  },
  {
   "cell_type": "markdown",
   "id": "a32eeee1",
   "metadata": {},
   "source": [
    "- 코드 참조 :\n",
    "    - https://seu11ee.tistory.com/5\n",
    "    - https://hamait.tistory.com/803\n",
    "    - https://kimdoky.github.io/python/2019/11/24/python-itertools/\n",
    "    - https://wikidocs.net/108925\n",
    "    - https://yjs-program.tistory.com/167"
   ]
  },
  {
   "cell_type": "markdown",
   "id": "5db7d949",
   "metadata": {},
   "source": [
    "언제나 미리 연구해주셔서 감사합니다. Thanks for sharing your information!"
   ]
  }
 ],
 "metadata": {
  "kernelspec": {
   "display_name": "Python 3",
   "language": "python",
   "name": "python3"
  },
  "language_info": {
   "codemirror_mode": {
    "name": "ipython",
    "version": 3
   },
   "file_extension": ".py",
   "mimetype": "text/x-python",
   "name": "python",
   "nbconvert_exporter": "python",
   "pygments_lexer": "ipython3",
   "version": "3.8.8"
  }
 },
 "nbformat": 4,
 "nbformat_minor": 5
}
