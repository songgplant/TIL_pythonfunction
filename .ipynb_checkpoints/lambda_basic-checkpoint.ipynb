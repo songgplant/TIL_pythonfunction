{
 "cells": [
  {
   "cell_type": "markdown",
   "id": "f379a46d",
   "metadata": {},
   "source": [
    "https://wikidocs.net/64"
   ]
  },
  {
   "cell_type": "code",
   "execution_count": 1,
   "id": "4f05388d",
   "metadata": {},
   "outputs": [],
   "source": [
    "def hap(x, y):\n",
    "    return x + y"
   ]
  },
  {
   "cell_type": "code",
   "execution_count": 2,
   "id": "59885214",
   "metadata": {},
   "outputs": [
    {
     "data": {
      "text/plain": [
       "30"
      ]
     },
     "execution_count": 2,
     "metadata": {},
     "output_type": "execute_result"
    }
   ],
   "source": [
    "hap(10, 20)"
   ]
  },
  {
   "cell_type": "code",
   "execution_count": 3,
   "id": "9e05b20b",
   "metadata": {},
   "outputs": [
    {
     "data": {
      "text/plain": [
       "'hihello'"
      ]
     },
     "execution_count": 3,
     "metadata": {},
     "output_type": "execute_result"
    }
   ],
   "source": [
    "hap('hi', 'hello')"
   ]
  },
  {
   "cell_type": "code",
   "execution_count": 4,
   "id": "54c6d2f9",
   "metadata": {},
   "outputs": [
    {
     "data": {
      "text/plain": [
       "<function __main__.<lambda>(x, y)>"
      ]
     },
     "execution_count": 4,
     "metadata": {},
     "output_type": "execute_result"
    }
   ],
   "source": [
    "lambda x, y:x+y"
   ]
  },
  {
   "cell_type": "code",
   "execution_count": 5,
   "id": "c5eb41d5",
   "metadata": {},
   "outputs": [
    {
     "data": {
      "text/plain": [
       "(<function __main__.<lambda>(x, y)>, 10, 20)"
      ]
     },
     "execution_count": 5,
     "metadata": {},
     "output_type": "execute_result"
    }
   ],
   "source": [
    "lambda x, y:x+y, 10, 20"
   ]
  },
  {
   "cell_type": "code",
   "execution_count": 6,
   "id": "e6ee38a5",
   "metadata": {},
   "outputs": [
    {
     "data": {
      "text/plain": [
       "(<function __main__.<lambda>(x, y)>, (10, 20))"
      ]
     },
     "execution_count": 6,
     "metadata": {},
     "output_type": "execute_result"
    }
   ],
   "source": [
    "lambda x, y:x+y, (10, 20)"
   ]
  },
  {
   "cell_type": "code",
   "execution_count": 8,
   "id": "f3bd608f",
   "metadata": {},
   "outputs": [
    {
     "data": {
      "text/plain": [
       "30"
      ]
     },
     "execution_count": 8,
     "metadata": {},
     "output_type": "execute_result"
    }
   ],
   "source": [
    "(lambda x, y:x+y)(10, 20)"
   ]
  },
  {
   "cell_type": "markdown",
   "id": "dbe6c2fc",
   "metadata": {},
   "source": [
    "---"
   ]
  },
  {
   "cell_type": "markdown",
   "id": "736250f9",
   "metadata": {},
   "source": [
    "**map()** 과 lambda의 적용"
   ]
  },
  {
   "cell_type": "code",
   "execution_count": 9,
   "id": "e151db82",
   "metadata": {},
   "outputs": [
    {
     "data": {
      "text/plain": [
       "(<function __main__.<lambda>(x)>, range(0, 5))"
      ]
     },
     "execution_count": 9,
     "metadata": {},
     "output_type": "execute_result"
    }
   ],
   "source": [
    "# map(함수, 리스트)\n",
    "(lambda x: x ** 2, range(5))"
   ]
  },
  {
   "cell_type": "code",
   "execution_count": 11,
   "id": "c4d0b538",
   "metadata": {},
   "outputs": [
    {
     "data": {
      "text/plain": [
       "<map at 0x1c98790d640>"
      ]
     },
     "execution_count": 11,
     "metadata": {},
     "output_type": "execute_result"
    }
   ],
   "source": [
    "# 파이썬 2.x 버전에서만 가능한 출력\n",
    "map(lambda x: x ** 2, range(5))"
   ]
  },
  {
   "cell_type": "code",
   "execution_count": 12,
   "id": "b8f9db07",
   "metadata": {},
   "outputs": [
    {
     "data": {
      "text/plain": [
       "[0, 1, 4, 9, 16]"
      ]
     },
     "execution_count": 12,
     "metadata": {},
     "output_type": "execute_result"
    }
   ],
   "source": [
    "# 파이썬 2.x, 3.x 에서의 출력\n",
    "list(map(lambda x: x ** 2, range(5)))\n",
    "# 리스트로 range(5)를 받아서 0,1,2,3,4에 lambda식을 하나씩 적용한다."
   ]
  },
  {
   "cell_type": "markdown",
   "id": "f0f33737",
   "metadata": {},
   "source": [
    "**reduce()** 와 lambda의 적용"
   ]
  },
  {
   "cell_type": "code",
   "execution_count": 13,
   "id": "4381fc2a",
   "metadata": {},
   "outputs": [
    {
     "data": {
      "text/plain": [
       "10"
      ]
     },
     "execution_count": 13,
     "metadata": {},
     "output_type": "execute_result"
    }
   ],
   "source": [
    "# reduce(함수, 시퀀스)\n",
    "# 시퀀스의 원소들을 누적적으로 함수에 적용한다\n",
    "from functools import reduce\n",
    "reduce(lambda x, y: x + y, [0,1,2,3,4])"
   ]
  },
  {
   "cell_type": "code",
   "execution_count": 14,
   "id": "c6fff8c5",
   "metadata": {},
   "outputs": [
    {
     "data": {
      "text/plain": [
       "'edcba'"
      ]
     },
     "execution_count": 14,
     "metadata": {},
     "output_type": "execute_result"
    }
   ],
   "source": [
    "reduce(lambda x, y: y + x, 'abcde')"
   ]
  },
  {
   "cell_type": "code",
   "execution_count": 15,
   "id": "6822b49b",
   "metadata": {},
   "outputs": [
    {
     "data": {
      "text/plain": [
       "'ba'"
      ]
     },
     "execution_count": 15,
     "metadata": {},
     "output_type": "execute_result"
    }
   ],
   "source": [
    "reduce(lambda x, y: y + x, 'ab')"
   ]
  },
  {
   "cell_type": "code",
   "execution_count": 16,
   "id": "4de5b4dd",
   "metadata": {},
   "outputs": [
    {
     "data": {
      "text/plain": [
       "'cba'"
      ]
     },
     "execution_count": 16,
     "metadata": {},
     "output_type": "execute_result"
    }
   ],
   "source": [
    "reduce(lambda x, y: y + x, 'abc')\n",
    "# ba의 결과 이후 그 다음 원소인 c를 더함\n",
    "# 첫 번째 x, y = a, b >> 결과 'ba'\n",
    "# 두 번째 x, y = ba, c >> 결과 'cba'"
   ]
  },
  {
   "cell_type": "code",
   "execution_count": 17,
   "id": "11182c62",
   "metadata": {},
   "outputs": [
    {
     "data": {
      "text/plain": [
       "'dcba'"
      ]
     },
     "execution_count": 17,
     "metadata": {},
     "output_type": "execute_result"
    }
   ],
   "source": [
    "reduce(lambda x, y: y + x, 'abcd')"
   ]
  },
  {
   "cell_type": "code",
   "execution_count": 18,
   "id": "528c718a",
   "metadata": {},
   "outputs": [
    {
     "data": {
      "text/plain": [
       "'edcba'"
      ]
     },
     "execution_count": 18,
     "metadata": {},
     "output_type": "execute_result"
    }
   ],
   "source": [
    "reduce(lambda x, y: y + x, 'abcde')"
   ]
  },
  {
   "cell_type": "markdown",
   "id": "0ef3545a",
   "metadata": {},
   "source": [
    "**filter()**와 lambda의 적용"
   ]
  },
  {
   "cell_type": "code",
   "execution_count": 19,
   "id": "4cae22d2",
   "metadata": {},
   "outputs": [
    {
     "data": {
      "text/plain": [
       "[0, 1, 2, 3, 4]"
      ]
     },
     "execution_count": 19,
     "metadata": {},
     "output_type": "execute_result"
    }
   ],
   "source": [
    "# filter(함수, 리스트)\n",
    "# 말 그대로 필터. lambda의 결과가 참인 값을 새로운 리스트로 반환\n",
    "list(filter(lambda x: x < 5, range(10)))"
   ]
  },
  {
   "cell_type": "code",
   "execution_count": 21,
   "id": "f13f87d5",
   "metadata": {},
   "outputs": [
    {
     "data": {
      "text/plain": [
       "[0, 2, 4, 6, 8]"
      ]
     },
     "execution_count": 21,
     "metadata": {},
     "output_type": "execute_result"
    }
   ],
   "source": [
    "# 짝수 돌려주는 filter(lambda()) 만들기\n",
    "list(filter(lambda x: x % 2 == 0, range(10)))"
   ]
  },
  {
   "cell_type": "code",
   "execution_count": 24,
   "id": "21a45483",
   "metadata": {},
   "outputs": [
    {
     "data": {
      "text/plain": [
       "[1, 3, 5, 7, 9]"
      ]
     },
     "execution_count": 24,
     "metadata": {},
     "output_type": "execute_result"
    }
   ],
   "source": [
    "# 홀수 돌려주는 filter(lambda()) 만들기\n",
    "# 2로 나눈 나머지가 1 => 1은 True 값이다.(False는 0)\n",
    "list(filter(lambda x: x % 2, range(10)))"
   ]
  },
  {
   "cell_type": "code",
   "execution_count": null,
   "id": "ac55a8b2",
   "metadata": {},
   "outputs": [],
   "source": []
  }
 ],
 "metadata": {
  "kernelspec": {
   "display_name": "Python 3",
   "language": "python",
   "name": "python3"
  },
  "language_info": {
   "codemirror_mode": {
    "name": "ipython",
    "version": 3
   },
   "file_extension": ".py",
   "mimetype": "text/x-python",
   "name": "python",
   "nbconvert_exporter": "python",
   "pygments_lexer": "ipython3",
   "version": "3.8.8"
  }
 },
 "nbformat": 4,
 "nbformat_minor": 5
}
