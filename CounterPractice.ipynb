{
 "cells": [
  {
   "cell_type": "markdown",
   "id": "eea78b96",
   "metadata": {},
   "source": [
    "### collections 모듈 counter 연습 기초\n",
    "좋은 설명글, Counter에 대해 공부하고 싶다면 이 링크만 봐도 될 것이다. : https://velog.io/@kimdukbae/Python-collections-%EB%AA%A8%EB%93%88%EC%9D%98-Counter"
   ]
  },
  {
   "cell_type": "code",
   "execution_count": 1,
   "id": "fc180f48",
   "metadata": {},
   "outputs": [],
   "source": [
    "import collections\n",
    "\n",
    "testlist = ['kim', 'kim', 'park', 'choi', 'kim', 'kim', 'kim', 'choi', 'park', 'choi']"
   ]
  },
  {
   "cell_type": "code",
   "execution_count": 2,
   "id": "faa2d1fc",
   "metadata": {},
   "outputs": [
    {
     "data": {
      "text/plain": [
       "Counter({'kim': 5, 'park': 2, 'choi': 3})"
      ]
     },
     "execution_count": 2,
     "metadata": {},
     "output_type": "execute_result"
    }
   ],
   "source": [
    "# from collections import Counter로 사용한 게 아니므로, collections.Counter로 실행\n",
    "ex_counter = collections.Counter(testlist)\n",
    "ex_counter"
   ]
  },
  {
   "cell_type": "code",
   "execution_count": 3,
   "id": "a454ba19",
   "metadata": {},
   "outputs": [
    {
     "data": {
      "text/plain": [
       "collections.Counter"
      ]
     },
     "execution_count": 3,
     "metadata": {},
     "output_type": "execute_result"
    }
   ],
   "source": [
    "type(ex_counter)"
   ]
  },
  {
   "cell_type": "markdown",
   "id": "8049b568",
   "metadata": {},
   "source": [
    "Counter({'kim': 5, 'park': 2, 'choi': 3}) 모양만 보면 딕셔너리인데?"
   ]
  },
  {
   "cell_type": "code",
   "execution_count": 4,
   "id": "9225c334",
   "metadata": {},
   "outputs": [
    {
     "data": {
      "text/plain": [
       "5"
      ]
     },
     "execution_count": 4,
     "metadata": {},
     "output_type": "execute_result"
    }
   ],
   "source": [
    "ex_counter['kim']"
   ]
  },
  {
   "cell_type": "code",
   "execution_count": 6,
   "id": "8af804f7",
   "metadata": {},
   "outputs": [
    {
     "data": {
      "text/plain": [
       "dict_keys(['kim', 'park', 'choi'])"
      ]
     },
     "execution_count": 6,
     "metadata": {},
     "output_type": "execute_result"
    }
   ],
   "source": [
    "ex_counter.keys()"
   ]
  },
  {
   "cell_type": "code",
   "execution_count": 9,
   "id": "d773eace",
   "metadata": {},
   "outputs": [
    {
     "data": {
      "text/plain": [
       "dict_values([5, 2, 3])"
      ]
     },
     "execution_count": 9,
     "metadata": {},
     "output_type": "execute_result"
    }
   ],
   "source": [
    "ex_counter.values()"
   ]
  },
  {
   "cell_type": "code",
   "execution_count": 10,
   "id": "edb5a85d",
   "metadata": {},
   "outputs": [
    {
     "data": {
      "text/plain": [
       "dict_items([('kim', 5), ('park', 2), ('choi', 3)])"
      ]
     },
     "execution_count": 10,
     "metadata": {},
     "output_type": "execute_result"
    }
   ],
   "source": [
    "ex_counter.items()"
   ]
  },
  {
   "cell_type": "markdown",
   "id": "64939cad",
   "metadata": {},
   "source": [
    "type()은 Counter지만, dictionary의 keys(), values(), items()를 쓸 수 있다."
   ]
  },
  {
   "cell_type": "markdown",
   "id": "88ac3faf",
   "metadata": {},
   "source": [
    "---"
   ]
  },
  {
   "cell_type": "code",
   "execution_count": 11,
   "id": "3f63fd4f",
   "metadata": {},
   "outputs": [
    {
     "data": {
      "text/plain": [
       "Counter({'김씨': 5, '박씨': 2, '최씨': 3})"
      ]
     },
     "execution_count": 11,
     "metadata": {},
     "output_type": "execute_result"
    }
   ],
   "source": [
    "# dictionary 자료형도 Counter가능\n",
    "from collections import Counter\n",
    "\n",
    "ex_counter = Counter({'김씨': 5, '박씨': 2, '최씨': 3})\n",
    "ex_counter"
   ]
  },
  {
   "cell_type": "code",
   "execution_count": 12,
   "id": "852a270d",
   "metadata": {},
   "outputs": [
    {
     "name": "stdout",
     "output_type": "stream",
     "text": [
      "Counter({'김씨': 5, '최씨': 3, '박씨': 2})\n"
     ]
    }
   ],
   "source": [
    "print(ex_counter)"
   ]
  },
  {
   "cell_type": "code",
   "execution_count": 13,
   "id": "17b5f4b8",
   "metadata": {},
   "outputs": [
    {
     "data": {
      "text/plain": [
       "Counter({'김씨': 5, '박씨': 2, '최씨': 3})"
      ]
     },
     "execution_count": 13,
     "metadata": {},
     "output_type": "execute_result"
    }
   ],
   "source": [
    "ex_counter"
   ]
  },
  {
   "cell_type": "markdown",
   "id": "baf349f2",
   "metadata": {},
   "source": [
    "print()로 출력해야 내림차순으로 정렬되어 출력됨.(?)"
   ]
  },
  {
   "cell_type": "code",
   "execution_count": 16,
   "id": "cef50012",
   "metadata": {},
   "outputs": [
    {
     "data": {
      "text/plain": [
       "([('김씨', 5), ('최씨', 3), ('박씨', 2)], list, tuple)"
      ]
     },
     "execution_count": 16,
     "metadata": {},
     "output_type": "execute_result"
    }
   ],
   "source": [
    "ex_counter = Counter({'김씨': 5, '박씨': 2, '최씨': 3}).most_common()\n",
    "ex_counter, type(ex_counter), type(ex_counter[0])"
   ]
  },
  {
   "cell_type": "code",
   "execution_count": 24,
   "id": "cd2fb8b8",
   "metadata": {},
   "outputs": [
    {
     "data": {
      "text/plain": [
       "[('김씨', 5), ('최씨', 3), ('박씨', 2)]"
      ]
     },
     "execution_count": 24,
     "metadata": {},
     "output_type": "execute_result"
    }
   ],
   "source": [
    "ex_counter = Counter({'김씨': 5, '박씨': 2, '최씨': 3})\n",
    "sorted(ex_counter.items(), key=lambda x: -x[1])"
   ]
  },
  {
   "cell_type": "code",
   "execution_count": 25,
   "id": "ed89bcc4",
   "metadata": {},
   "outputs": [
    {
     "data": {
      "text/plain": [
       "[('박씨', 2), ('최씨', 3), ('김씨', 5)]"
      ]
     },
     "execution_count": 25,
     "metadata": {},
     "output_type": "execute_result"
    }
   ],
   "source": [
    "sorted(ex_counter.items(), key=lambda x: -x[1], reverse=True)"
   ]
  },
  {
   "cell_type": "markdown",
   "id": "29dad14e",
   "metadata": {},
   "source": [
    "---"
   ]
  },
  {
   "cell_type": "code",
   "execution_count": 26,
   "id": "fc60fae1",
   "metadata": {},
   "outputs": [
    {
     "name": "stdout",
     "output_type": "stream",
     "text": [
      "Counter({'오렌지': 7, '사과': 4, '포도': 2})\n"
     ]
    }
   ],
   "source": [
    "# 값 = 개수 형태, 카운터 숫자만큼 요소 반환하기\n",
    "test = Counter(사과=4, 오렌지=7, 포도=2)\n",
    "print(test)"
   ]
  },
  {
   "cell_type": "code",
   "execution_count": 27,
   "id": "32df3e75",
   "metadata": {},
   "outputs": [
    {
     "data": {
      "text/plain": [
       "Counter({'사과': 4, '오렌지': 7, '포도': 2})"
      ]
     },
     "execution_count": 27,
     "metadata": {},
     "output_type": "execute_result"
    }
   ],
   "source": [
    "test"
   ]
  },
  {
   "cell_type": "code",
   "execution_count": 28,
   "id": "a9af53f7",
   "metadata": {},
   "outputs": [
    {
     "data": {
      "text/plain": [
       "['사과',\n",
       " '사과',\n",
       " '사과',\n",
       " '사과',\n",
       " '오렌지',\n",
       " '오렌지',\n",
       " '오렌지',\n",
       " '오렌지',\n",
       " '오렌지',\n",
       " '오렌지',\n",
       " '오렌지',\n",
       " '포도',\n",
       " '포도']"
      ]
     },
     "execution_count": 28,
     "metadata": {},
     "output_type": "execute_result"
    }
   ],
   "source": [
    "# print로 출력할 때와 결과 형태가 다르다\n",
    "sorted(test.elements())"
   ]
  },
  {
   "cell_type": "code",
   "execution_count": 29,
   "id": "a8adf260",
   "metadata": {},
   "outputs": [
    {
     "name": "stdout",
     "output_type": "stream",
     "text": [
      "['사과', '사과', '사과', '사과', '오렌지', '오렌지', '오렌지', '오렌지', '오렌지', '오렌지', '오렌지', '포도', '포도']\n"
     ]
    }
   ],
   "source": [
    "print(sorted(test.elements()))"
   ]
  },
  {
   "cell_type": "code",
   "execution_count": 30,
   "id": "d2418761",
   "metadata": {},
   "outputs": [],
   "source": [
    "# Counter추가하기 update()\n",
    "test.update('abdsea')"
   ]
  },
  {
   "cell_type": "code",
   "execution_count": 31,
   "id": "fb574bb7",
   "metadata": {},
   "outputs": [
    {
     "data": {
      "text/plain": [
       "Counter({'사과': 4, '오렌지': 7, '포도': 2, 'a': 2, 'b': 1, 'd': 1, 's': 1, 'e': 1})"
      ]
     },
     "execution_count": 31,
     "metadata": {},
     "output_type": "execute_result"
    }
   ],
   "source": [
    "test"
   ]
  },
  {
   "cell_type": "code",
   "execution_count": 32,
   "id": "36486308",
   "metadata": {},
   "outputs": [],
   "source": [
    "test1 = collections.Counter(['kim', 'kim', 'park', 'choi', 'kim', 'kim', 'kim', 'choi', 'park', 'choi'])"
   ]
  },
  {
   "cell_type": "code",
   "execution_count": 33,
   "id": "df68b2f5",
   "metadata": {},
   "outputs": [
    {
     "data": {
      "text/plain": [
       "[('kim', 5), ('choi', 3), ('park', 2)]"
      ]
     },
     "execution_count": 33,
     "metadata": {},
     "output_type": "execute_result"
    }
   ],
   "source": [
    "test1.most_common()"
   ]
  },
  {
   "cell_type": "code",
   "execution_count": 36,
   "id": "335f1fd7",
   "metadata": {},
   "outputs": [
    {
     "name": "stdout",
     "output_type": "stream",
     "text": [
      "[('kim', 5)]\n",
      "[('kim', 5), ('choi', 3)]\n"
     ]
    }
   ],
   "source": [
    "print(test1.most_common(1))\n",
    "print(test1.most_common(2))"
   ]
  },
  {
   "cell_type": "markdown",
   "id": "1b92c049",
   "metadata": {},
   "source": [
    "---"
   ]
  },
  {
   "cell_type": "markdown",
   "id": "3fde21d8",
   "metadata": {},
   "source": [
    "**subtract()**"
   ]
  },
  {
   "cell_type": "code",
   "execution_count": 40,
   "id": "5379eeef",
   "metadata": {},
   "outputs": [
    {
     "name": "stdout",
     "output_type": "stream",
     "text": [
      "Counter({' ': 2, 'o': 2, 'I': 1, 'l': 1, 'v': 1, 'e': 1, 'y': 1, 'u': 1})\n",
      "Counter({' ': 3, 'e': 2, 'I': 1, 'l': 1, 'o': 1, 'v': 1, 'm': 1, 'y': 1, 'f': 1, 'r': 1, 'i': 1, 'n': 1, 'd': 1, 's': 1})\n"
     ]
    }
   ],
   "source": [
    "test1 = Counter('I love you')\n",
    "test2 = Counter('I love my friends')\n",
    "print(test1)\n",
    "print(test2)"
   ]
  },
  {
   "cell_type": "code",
   "execution_count": 38,
   "id": "b173eee6",
   "metadata": {},
   "outputs": [],
   "source": [
    "test2.subtract(test1)"
   ]
  },
  {
   "cell_type": "code",
   "execution_count": 39,
   "id": "2cfc417a",
   "metadata": {},
   "outputs": [
    {
     "name": "stdout",
     "output_type": "stream",
     "text": [
      "Counter({' ': 1, 'e': 1, 'm': 1, 'f': 1, 'r': 1, 'i': 1, 'n': 1, 'd': 1, 's': 1, 'I': 0, 'l': 0, 'v': 0, 'y': 0, 'o': -1, 'u': -1})\n"
     ]
    }
   ],
   "source": [
    "# subtract는 결과가 안 나온다. print를 해보면\n",
    "print(test2)"
   ]
  },
  {
   "cell_type": "code",
   "execution_count": 41,
   "id": "75321036",
   "metadata": {},
   "outputs": [
    {
     "data": {
      "text/plain": [
       "Counter({'I': 2,\n",
       "         ' ': 5,\n",
       "         'l': 2,\n",
       "         'o': 3,\n",
       "         'v': 2,\n",
       "         'e': 3,\n",
       "         'y': 2,\n",
       "         'u': 1,\n",
       "         'm': 1,\n",
       "         'f': 1,\n",
       "         'r': 1,\n",
       "         'i': 1,\n",
       "         'n': 1,\n",
       "         'd': 1,\n",
       "         's': 1})"
      ]
     },
     "execution_count": 41,
     "metadata": {},
     "output_type": "execute_result"
    }
   ],
   "source": [
    "test1 + test2"
   ]
  },
  {
   "cell_type": "code",
   "execution_count": 42,
   "id": "09d6d075",
   "metadata": {},
   "outputs": [
    {
     "name": "stdout",
     "output_type": "stream",
     "text": [
      "Counter({' ': 5, 'o': 3, 'e': 3, 'I': 2, 'l': 2, 'v': 2, 'y': 2, 'u': 1, 'm': 1, 'f': 1, 'r': 1, 'i': 1, 'n': 1, 'd': 1, 's': 1})\n"
     ]
    }
   ],
   "source": [
    "print(test1+test2)"
   ]
  },
  {
   "cell_type": "code",
   "execution_count": 43,
   "id": "b071a502",
   "metadata": {},
   "outputs": [
    {
     "name": "stdout",
     "output_type": "stream",
     "text": [
      "Counter({'o': 1, 'u': 1})\n"
     ]
    }
   ],
   "source": [
    "print(test1 - test2)\n",
    "# 문자열 뺄셈은, test1에서 갖고 있는 문자 중에서만 계산된다."
   ]
  },
  {
   "cell_type": "code",
   "execution_count": 44,
   "id": "7e014cc9",
   "metadata": {},
   "outputs": [
    {
     "name": "stdout",
     "output_type": "stream",
     "text": [
      "Counter({'A': 1, 'B': 1, 'C': 1, 'D': 1, 'E': 1, 'F': 1, 'G': 1})\n",
      "Counter({'G': 5, 'A': 1, 'B': 1, 'C': 1, 'D': 1, 'E': 1, 'F': 1})\n"
     ]
    }
   ],
   "source": [
    "# 교집합, 합집합도 가능하다\n",
    "ex_counter1 = collections.Counter('ABCDEFGGGGG')\n",
    "ex_counter2 = collections.Counter('ABCDEFG')\n",
    "\n",
    "print(ex_counter1 & ex_counter2)\n",
    "print(ex_counter1 | ex_counter2)"
   ]
  },
  {
   "cell_type": "markdown",
   "id": "1180ffbe",
   "metadata": {},
   "source": [
    "참고링크\n",
    "- https://m.blog.naver.com/PostView.naver?isHttpsRedirect=true&blogId=wideeyed&logNo=221540885097\n",
    "- https://bio-info.tistory.com/53\n",
    "- https://ek-koh.github.io/python/counter/\n",
    "- https://gorokke.tistory.com/126\n",
    "- https://blockdmask.tistory.com/566"
   ]
  },
  {
   "cell_type": "code",
   "execution_count": null,
   "id": "7f315862",
   "metadata": {},
   "outputs": [],
   "source": []
  }
 ],
 "metadata": {
  "kernelspec": {
   "display_name": "Python 3",
   "language": "python",
   "name": "python3"
  },
  "language_info": {
   "codemirror_mode": {
    "name": "ipython",
    "version": 3
   },
   "file_extension": ".py",
   "mimetype": "text/x-python",
   "name": "python",
   "nbconvert_exporter": "python",
   "pygments_lexer": "ipython3",
   "version": "3.8.8"
  }
 },
 "nbformat": 4,
 "nbformat_minor": 5
}
